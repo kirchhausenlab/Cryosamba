{
 "cells": [
  {
   "cell_type": "code",
   "execution_count": 1,
   "id": "b89e0ee0-0769-4b20-8b2c-78d68268c40a",
   "metadata": {},
   "outputs": [
    {
     "ename": "ImportError",
     "evalue": "cannot import name 'flow_warp_old' from 'utils.nn_utils' (/nfs/scratch2/inacio/code/denoising/cryosamba/core/utils/nn_utils.py)",
     "output_type": "error",
     "traceback": [
      "\u001b[0;31m---------------------------------------------------------------------------\u001b[0m",
      "\u001b[0;31mImportError\u001b[0m                               Traceback (most recent call last)",
      "Cell \u001b[0;32mIn[1], line 27\u001b[0m\n\u001b[1;32m     24\u001b[0m \u001b[38;5;28;01mfrom\u001b[39;00m \u001b[38;5;21;01mutils\u001b[39;00m\u001b[38;5;21;01m.\u001b[39;00m\u001b[38;5;21;01mdata_utils\u001b[39;00m \u001b[38;5;28;01mimport\u001b[39;00m get_data, normalize_imgs, denormalize_imgs\n\u001b[1;32m     25\u001b[0m \u001b[38;5;28;01mfrom\u001b[39;00m \u001b[38;5;21;01mutils\u001b[39;00m\u001b[38;5;21;01m.\u001b[39;00m\u001b[38;5;21;01mtorch_utils\u001b[39;00m \u001b[38;5;28;01mimport\u001b[39;00m setup_DDP, load_ckpt\n\u001b[0;32m---> 27\u001b[0m \u001b[38;5;28;01mfrom\u001b[39;00m \u001b[38;5;21;01mutils\u001b[39;00m\u001b[38;5;21;01m.\u001b[39;00m\u001b[38;5;21;01mnn_utils\u001b[39;00m \u001b[38;5;28;01mimport\u001b[39;00m flow_warp, flow_warp_old\n",
      "\u001b[0;31mImportError\u001b[0m: cannot import name 'flow_warp_old' from 'utils.nn_utils' (/nfs/scratch2/inacio/code/denoising/cryosamba/core/utils/nn_utils.py)"
     ]
    }
   ],
   "source": [
    "import os, sys\n",
    "os.environ['TF_CPP_MIN_LOG_LEVEL'] = '2'\n",
    "os.environ[\"CUDA_VISIBLE_DEVICES\"]=\"7\"\n",
    "CORE_DIR = os.path.join(os.path.dirname(os.path.abspath(os.getcwd())), \"core\")\n",
    "CORE_DIR_2 = os.path.join(os.path.dirname(os.path.abspath(os.getcwd())), \"core/\")\n",
    "sys.path.append(os.path.dirname(CORE_DIR))\n",
    "sys.path.append(os.path.dirname(CORE_DIR_2))\n",
    "\n",
    "import torch\n",
    "import torch.nn as nn\n",
    "import torch.nn.functional as F\n",
    "from torch.cuda.amp import GradScaler\n",
    "from torch.cuda.amp import autocast\n",
    "\n",
    "import numpy as np\n",
    "import argparse\n",
    "from time import time\n",
    "from loguru import logger\n",
    "import matplotlib.pyplot as plt\n",
    "import tifffile\n",
    "\n",
    "from model import get_model\n",
    "from utils.utils import load_json\n",
    "from utils.data_utils import get_data, normalize_imgs, denormalize_imgs\n",
    "from utils.torch_utils import setup_DDP, load_ckpt\n",
    "\n",
    "from utils.nn_utils import flow_warp, flow_warp_old"
   ]
  },
  {
   "cell_type": "code",
   "execution_count": null,
   "id": "603e032c-9ecf-4f12-aa51-fdc8fcf0dc99",
   "metadata": {},
   "outputs": [],
   "source": [
    "seed = 1234\n",
    "world_size, rank, device = setup_DDP(seed)\n",
    "is_ddp = (world_size > 1)"
   ]
  },
  {
   "cell_type": "code",
   "execution_count": null,
   "id": "89dc071d-e447-4dc6-82c8-deb21b28d92a",
   "metadata": {},
   "outputs": [],
   "source": [
    "# @torch.inference_mode\n",
    "# def run_model(imgs, cfg, model, is_ddp, metadata, TTA):\n",
    "#     with autocast(enabled=cfg.train.mixed_precision):\n",
    "#         rec = model.forward(imgs, metadata, TTA=TTA, mode='inference')\n",
    "\n",
    "#     return rec.squeeze().cpu().detach().numpy()\n",
    "\n",
    "def auto_contrast(image, sigma=2):\n",
    "    mean = np.mean(image)\n",
    "    std = np.std(image)\n",
    "    \n",
    "    lower_value = mean - sigma * std\n",
    "    upper_value = mean + sigma * std\n",
    "\n",
    "    image = (image - lower_value) / (upper_value - lower_value)\n",
    "\n",
    "    return image\n",
    "\n",
    "def fft(x):\n",
    "    return np.fft.fftshift(np.fft.fftn(np.fft.fftshift(x)))"
   ]
  },
  {
   "cell_type": "markdown",
   "id": "51ec6f26-bae1-4f7d-b8fe-1b182704e307",
   "metadata": {},
   "source": [
    "# Fourier"
   ]
  },
  {
   "cell_type": "code",
   "execution_count": null,
   "id": "d02c37b8-f530-4b6d-b76a-68f29376f908",
   "metadata": {},
   "outputs": [],
   "source": [
    "\n",
    "config = '../configs/nova/rotacell_grid1_TS09_ctf_3xBin_train.json'\n",
    "# config = '../configs/benchmark/linux_train.json'\n",
    "cfg = load_json(config)\n",
    "\n",
    "max_frame_gap = 30\n",
    "coords = [400,850,800]\n",
    "patch_shape = [128,256,256]\n",
    "TTA = False\n",
    "batch_size = 32"
   ]
  },
  {
   "cell_type": "code",
   "execution_count": null,
   "id": "97c6c351-7bca-4c5b-8831-efdd3a41445a",
   "metadata": {},
   "outputs": [],
   "source": [
    "cfg = load_json(os.path.join(cfg.train_dir, \"config.json\"))\n",
    "\n",
    "data, metadata = get_data(cfg.data_path[0])\n",
    "\n",
    "crop = []\n",
    "for i in range(patch_shape[0]):\n",
    "    z = coords[0]+i\n",
    "    roi = np.asarray(data[z-max_frame_gap:z+max_frame_gap+1, coords[1]-patch_shape[1]:coords[1], coords[2]:coords[2]+patch_shape[2]])\n",
    "    crop.append(roi)\n",
    "crop = torch.from_numpy(np.asarray(crop))\n",
    "\n",
    "load_ckpt_path = os.path.join(cfg.train_dir, 'last.pt')\n",
    "model = get_model(cfg, device, is_ddp, compile=False)\n",
    "model = load_ckpt(load_ckpt_path, model, is_ddp=is_ddp, compile=False)[0]\n",
    "model.eval();"
   ]
  },
  {
   "cell_type": "code",
   "execution_count": null,
   "id": "7c4a3376-cc0a-4934-acbe-6b166de5bd06",
   "metadata": {},
   "outputs": [],
   "source": [
    "crop.shape"
   ]
  },
  {
   "cell_type": "code",
   "execution_count": null,
   "id": "97e82da0-36bd-47c5-9bb6-1700470a5d2c",
   "metadata": {},
   "outputs": [],
   "source": [
    "z = 64\n",
    "gap = 10\n",
    "\n",
    "middle = crop.shape[1]//2\n",
    "img0, imgT, img1 = crop[z,middle-gap], crop[z,middle], crop[z,middle+gap]\n",
    "img0 = img0.unsqueeze(0).unsqueeze(0).to(device)\n",
    "imgT = imgT.unsqueeze(0).unsqueeze(0).to(device)\n",
    "img1 = img1.unsqueeze(0).unsqueeze(0).to(device)\n",
    "img0 = normalize_imgs(img0, params=metadata)\n",
    "img1 = normalize_imgs(img1, params=metadata)\n",
    "\n",
    "with torch.inference_mode():\n",
    "    biflow = model.biflownet(img0, img1)\n",
    "    rec = model.fusionnet(img0, img1, biflow) \n",
    "\n",
    "img0 = denormalize_imgs(img0, params=metadata)\n",
    "img1 = denormalize_imgs(img1, params=metadata)\n",
    "    \n",
    "biflow = biflow.squeeze().cpu().detach().numpy()\n",
    "img0 = img0.squeeze().cpu().detach().numpy()\n",
    "imgT = imgT.squeeze().cpu().detach().numpy()\n",
    "img1 = img1.squeeze().cpu().detach().numpy()\n",
    "rec = rec.squeeze().cpu().detach().numpy()\n",
    "mag0 = np.sqrt(biflow[0]**2+biflow[1]**2)\n",
    "mag1 = np.sqrt(biflow[2]**2+biflow[3]**2)\n"
   ]
  },
  {
   "cell_type": "code",
   "execution_count": null,
   "id": "39a057b2-4de3-43ee-a4a5-4fb22c541d13",
   "metadata": {},
   "outputs": [],
   "source": [
    "plt.figure(figsize=(16,10))\n",
    "plt.subplot(2,3,1)\n",
    "plt.imshow(img0)\n",
    "plt.subplot(2,3,2)\n",
    "plt.imshow(imgT)\n",
    "plt.subplot(2,3,3)\n",
    "plt.imshow(img1)\n",
    "plt.subplot(2,3,4)\n",
    "plt.imshow(mag0)\n",
    "plt.subplot(2,3,5)\n",
    "plt.imshow(rec)\n",
    "plt.subplot(2,3,6)\n",
    "plt.imshow(mag1)\n",
    "plt.show()"
   ]
  },
  {
   "cell_type": "code",
   "execution_count": null,
   "id": "28d2d2f6-aff2-4239-861d-7d89a1f127fd",
   "metadata": {},
   "outputs": [],
   "source": []
  },
  {
   "cell_type": "code",
   "execution_count": 41,
   "id": "aa9fcde9-8322-460c-902e-1685a98d851c",
   "metadata": {},
   "outputs": [],
   "source": [
    "N,H,W = 2,64,64\n",
    "img = torch.zeros(N,1,H,W, device=device)\n",
    "img[:,:,16:32,16:32]=1\n",
    "flow = torch.zeros(N,2,H,W, device=device)\n",
    "flow[0,:,16:32,16:32]=5\n",
    "flow[1,:,16:32,16:32]=10\n",
    "\n",
    "a = flow_warp_shit(img, flow)\n",
    "b = flow_warp_old(img, flow)"
   ]
  },
  {
   "cell_type": "code",
   "execution_count": 19,
   "id": "10985b84-3daa-44d1-91a2-9344d442d4e0",
   "metadata": {},
   "outputs": [
    {
     "name": "stdout",
     "output_type": "stream",
     "text": [
      "477 µs ± 40.2 µs per loop (mean ± std. dev. of 7 runs, 1,000 loops each)\n"
     ]
    }
   ],
   "source": [
    "%timeit flow_warp_shit(img, flow)"
   ]
  },
  {
   "cell_type": "code",
   "execution_count": 20,
   "id": "1caedf3a-cef8-4f5c-93f1-90e78de48455",
   "metadata": {},
   "outputs": [
    {
     "name": "stdout",
     "output_type": "stream",
     "text": [
      "252 µs ± 347 ns per loop (mean ± std. dev. of 7 runs, 1,000 loops each)\n"
     ]
    }
   ],
   "source": [
    "%timeit flow_warp_old(img, flow)"
   ]
  },
  {
   "cell_type": "code",
   "execution_count": 43,
   "id": "33a46454-ac7b-42a7-87be-2b1cb998faa3",
   "metadata": {},
   "outputs": [
    {
     "data": {
      "image/png": "[encoded data removed]",
      "text/plain": [
       "<Figure size 640x480 with 2 Axes>"
      ]
     },
     "metadata": {},
     "output_type": "display_data"
    },
    {
     "data": {
      "image/png": "[encoded data removed]",
      "text/plain": [
       "<Figure size 640x480 with 2 Axes>"
      ]
     },
     "metadata": {},
     "output_type": "display_data"
    },
    {
     "data": {
      "image/png": "[encoded data removed]",
      "text/plain": [
       "<Figure size 640x480 with 2 Axes>"
      ]
     },
     "metadata": {},
     "output_type": "display_data"
    }
   ],
   "source": [
    "i = 0\n",
    "\n",
    "plt.imshow(img[i].squeeze().cpu().detach().numpy())\n",
    "plt.colorbar()\n",
    "plt.show()\n",
    "plt.imshow(a[i].squeeze().cpu().detach().numpy())\n",
    "plt.colorbar()\n",
    "plt.show()\n",
    "plt.imshow(b[i].squeeze().cpu().detach().numpy())\n",
    "plt.colorbar()\n",
    "plt.show()"
   ]
  },
  {
   "cell_type": "code",
   "execution_count": 16,
   "id": "54395f9f-2da1-4f01-baa3-d27577c5e1a5",
   "metadata": {},
   "outputs": [],
   "source": [
    "import torch\n",
    "import torch.nn.functional as F\n",
    "\n",
    "def FunctionSoftsplat(tenInput, tenFlow, tenMetric, strType):\n",
    "    B, C, H, W = tenInput.shape\n",
    "\n",
    "    # Initialize an empty output tensor and count tensor for normalization\n",
    "    tenOutput = torch.zeros(B, C, H, W, device=tenInput.device)\n",
    "    count = torch.zeros(B, 1, H, W, device=tenInput.device)\n",
    "\n",
    "    # Generate a grid of coordinates\n",
    "    xx = torch.arange(0, W, device=tenInput.device).view(1, 1, 1, W).expand(B, 1, H, W)\n",
    "    yy = torch.arange(0, H, device=tenInput.device).view(1, 1, H, 1).expand(B, 1, H, W)\n",
    "    base_grid = torch.cat((xx, yy), 1).float()\n",
    "\n",
    "    # Calculate new coordinates based on the flow\n",
    "    new_coords = base_grid + tenFlow\n",
    "    new_coords = new_coords.round().long()\n",
    "\n",
    "    # Clip the coordinates to image boundaries\n",
    "    new_coords[:, 0, :, :] = torch.clamp(new_coords[:, 0, :, :], 0, W - 1)\n",
    "    new_coords[:, 1, :, :] = torch.clamp(new_coords[:, 1, :, :], 0, H - 1)\n",
    "\n",
    "    # Flatten indices for efficient indexing\n",
    "    flattened_new_x = new_coords[:, 0, :, :].reshape(-1)\n",
    "    flattened_new_y = new_coords[:, 1, :, :].reshape(-1)\n",
    "    batch_indices = torch.arange(B, device=tenInput.device).view(B, 1, 1).expand(B, H, W).flatten()\n",
    "\n",
    "    # Calculate linear indices to scatter into the output\n",
    "    linear_indices = batch_indices * H * W + flattened_new_y * W + flattened_new_x\n",
    "\n",
    "    # Flatten the input to match the flattened indices\n",
    "    flattened_input = tenInput.permute(0, 2, 3, 1).view(-1, C)\n",
    "\n",
    "    # Scatter-add the input pixels into the output\n",
    "    for c in range(C):\n",
    "        tenOutput.view(-1, C)[:, c].scatter_add_(0, linear_indices, flattened_input[:, c])\n",
    "\n",
    "    # Scatter-add to count the number of pixels per destination location\n",
    "    count.view(-1).scatter_add_(0, linear_indices, torch.ones_like(linear_indices, dtype=torch.float32))\n",
    "\n",
    "    # Avoid division by zero by setting zero counts to 1\n",
    "    count[count == 0] = 1\n",
    "\n",
    "    # Normalize based on the count\n",
    "    tenOutput /= count\n",
    "\n",
    "    return tenOutput"
   ]
  },
  {
   "cell_type": "code",
   "execution_count": 17,
   "id": "f5c3793f-84a0-4158-b7ef-40af4911623e",
   "metadata": {},
   "outputs": [],
   "source": [
    "def flow_warp_shit(img, flow):\n",
    "    return FunctionSoftsplat(tenInput=img, tenFlow=flow, tenMetric=None, strType='average')"
   ]
  },
  {
   "cell_type": "code",
   "execution_count": null,
   "id": "7337a622-98c4-43c7-92da-2a31fc2e02da",
   "metadata": {},
   "outputs": [],
   "source": []
  },
  {
   "cell_type": "code",
   "execution_count": null,
   "id": "c068bee4-87f1-4e2b-8f05-f34beab01d9c",
   "metadata": {},
   "outputs": [],
   "source": []
  }
 ],
 "metadata": {
  "kernelspec": {
   "display_name": "Python 3 (ipykernel)",
   "language": "python",
   "name": "python3"
  },
  "language_info": {
   "codemirror_mode": {
    "name": "ipython",
    "version": 3
   },
   "file_extension": ".py",
   "mimetype": "text/x-python",
   "name": "python",
   "nbconvert_exporter": "python",
   "pygments_lexer": "ipython3",
   "version": "3.11.3"
  }
 },
 "nbformat": 4,
 "nbformat_minor": 5
}

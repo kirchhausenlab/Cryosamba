{
 "cells": [
  {
   "cell_type": "code",
   "execution_count": 1,
   "id": "321df1af-471e-4cd6-a277-c35200c7695a",
   "metadata": {},
   "outputs": [],
   "source": [
    "import mrcfile\n",
    "import numpy as np\n",
    "import matplotlib.pyplot as plt\n",
    "import matplotlib.patches as patches\n",
    "\n",
    "from copy import copy\n",
    "\n",
    "\n",
    "def load(path):\n",
    "    return mrcfile.mmap(path, mode=\"r\").data\n",
    "\n",
    "\n",
    "def save(save_path, data):\n",
    "    with mrcfile.new(save_path, overwrite=True) as mrc:\n",
    "        mrc.set_data(data)"
   ]
  },
  {
   "cell_type": "code",
   "execution_count": 3,
   "id": "2f0c4a41-83a2-4150-b109-f0ced10f6291",
   "metadata": {},
   "outputs": [
    {
     "name": "stdout",
     "output_type": "stream",
     "text": [
      "rotacell_grid1_TS09_ctf_3xBin_Odd\n",
      "rotacell_grid1_TS10_ctf_3xBin_Odd\n",
      "ndc10gfp_g7_l1_ts_002_ctf_3xBin_Odd\n",
      "ndc10gfp_g8_l3_ts_002_ctf_3xBin_Odd\n",
      "SMH825_ctf_3xBin_Odd\n"
     ]
    }
   ],
   "source": [
    "pad = 20\n",
    "\n",
    "names = [\n",
    "    \"rotacell_grid1_TS09_ctf_3xBin_Odd\",\n",
    "    \"rotacell_grid1_TS10_ctf_3xBin_Odd\",\n",
    "    \"ndc10gfp_g7_l1_ts_002_ctf_3xBin_Odd\",\n",
    "    \"ndc10gfp_g8_l3_ts_002_ctf_3xBin_Odd\",\n",
    "    \"SMH825_ctf_3xBin_Odd\",\n",
    "]\n",
    "\n",
    "for name in names:\n",
    "    print(name)\n",
    "\n",
    "    load_path = (\n",
    "        \"/nfs/datasync4/inacio/data/denoising/cryosamba/\"\n",
    "        + name\n",
    "        + \"/inference/result.rec\"\n",
    "    )\n",
    "    save_path = (\n",
    "        \"/nfs/datasync4/inacio/data/denoising/cryosamba/no_pad/\"\n",
    "        + name\n",
    "        + \"_cryosamba.rec\"\n",
    "    )\n",
    "    new = load(load_path)[pad:-pad]\n",
    "    save(save_path, new)\n",
    "\n",
    "    load_path = (\n",
    "        \"/nfs/datasync4/inacio/data/raw_data/cryo/novareconstructions/\" + name + \".rec\"\n",
    "    )\n",
    "    save_path = (\n",
    "        \"/nfs/datasync4/inacio/data/denoising/cryosamba/no_pad/\" + name + \"_raw.rec\"\n",
    "    )\n",
    "\n",
    "    new = load(load_path)[pad:-pad]\n",
    "\n",
    "    save(save_path, new)"
   ]
  },
  {
   "cell_type": "code",
   "execution_count": null,
   "id": "5c5638a2-2dd0-48c0-985c-f4f7ef604457",
   "metadata": {},
   "outputs": [],
   "source": []
  },
  {
   "cell_type": "code",
   "execution_count": null,
   "id": "933a9ef6-f1bc-422c-b389-11fced090e49",
   "metadata": {},
   "outputs": [],
   "source": []
  }
 ],
 "metadata": {
  "kernelspec": {
   "display_name": "Python 3 (ipykernel)",
   "language": "python",
   "name": "python3"
  },
  "language_info": {
   "codemirror_mode": {
    "name": "ipython",
    "version": 3
   },
   "file_extension": ".py",
   "mimetype": "text/x-python",
   "name": "python",
   "nbconvert_exporter": "python",
   "pygments_lexer": "ipython3",
   "version": "3.11.3"
  }
 },
 "nbformat": 4,
 "nbformat_minor": 5
}

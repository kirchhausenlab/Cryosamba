{
 "cells": [
  {
   "cell_type": "code",
   "execution_count": 164,
   "id": "9359713d-3c73-4dd2-a309-3f83efb2ba61",
   "metadata": {},
   "outputs": [],
   "source": [
    "import mrcfile\n",
    "import numpy as np\n",
    "import matplotlib.pyplot as plt\n",
    "import matplotlib.patches as patches\n",
    "\n",
    "from copy import copy\n",
    "from time import time\n",
    "\n",
    "def load(path, pad=40):\n",
    "    return mrcfile.mmap(path, mode='r').data[pad:-pad or None, pad:-pad or None, pad:-pad or None]\n",
    "\n",
    "def save(save_path, data):\n",
    "    with mrcfile.new(save_path, overwrite=True) as mrc:\n",
    "        mrc.set_data(data)\n",
    "\n",
    "def get_contrast(image, sigma=2):\n",
    "    if sigma==None:\n",
    "        return image.min(), image.max()\n",
    "        \n",
    "    mean = np.mean(image)\n",
    "    std = np.std(image)\n",
    "    \n",
    "    lower_value = mean - sigma * std\n",
    "    upper_value = mean + sigma * std\n",
    "    return lower_value, upper_value\n",
    "\n",
    "def auto_contrast(image, sigma=2):\n",
    "    if sigma==None:\n",
    "        return image\n",
    "        \n",
    "    lower_value, upper_value = get_contrast(image, sigma=sigma)\n",
    "\n",
    "    return np.clip(image, lower_value, upper_value)\n",
    "\n",
    "def split_volume(volume):\n",
    "    if volume.shape[0] % 2 !=0:\n",
    "        volume = volume[:-1]\n",
    "    N = volume.shape[0]//2\n",
    "    return volume[::2].flatten(), volume[1::2].flatten()\n",
    "\n",
    "# def split_volume(volume):\n",
    "#     shape = volume.shape\n",
    "#     odd_index = list(np.arange(1, shape[i], 2) for i in range(len(shape)))\n",
    "#     even_index = list(np.arange(0, shape[i], 2) for i in range(len(shape)))\n",
    "\n",
    "#     vol1 = volume[even_index[0], :, :][:, odd_index[1], :][:, :, odd_index[2]] + \\\n",
    "#              volume[odd_index[0], :, :][:, odd_index[1], :][:, :, odd_index[2]]\n",
    "#     vol2 = volume[even_index[0], :, :][:, even_index[1], :][:, :, even_index[2]] + \\\n",
    "#              volume[odd_index[0], :, :][:, even_index[1], :][:, :, even_index[2]]\n",
    "#     return vol1.flatten(), vol2.flatten()\n",
    "\n",
    "def get_snr(volume):\n",
    "    volume = volume.astype('float')\n",
    "    even, odd = split_volume(volume)\n",
    "    # even = (even - np.mean(even)) / (np.std(even) * len(even))\n",
    "    # odd = (odd - np.mean(odd)) / (np.std(odd) * len(odd))\n",
    "    ccc = np.corrcoef(even, odd)[0,1]\n",
    "    print(ccc)\n",
    "    snr = 10*np.log10(ccc/(1-ccc))\n",
    "    return snr"
   ]
  },
  {
   "cell_type": "code",
   "execution_count": 165,
   "id": "56da2eda-1318-426b-92b6-e3b25f7dd558",
   "metadata": {},
   "outputs": [],
   "source": [
    "raw_1x_path = \"/nfs/datasync4/inacio/data/raw_data/cryo/novareconstructions/cropped/rotacell_grid1_TS09_ctf_1xBin.rec\"\n",
    "raw_3x_path = \"/nfs/datasync4/inacio/data/raw_data/cryo/novareconstructions/rotacell_grid1_TS09_ctf_3xBin.rec\"\n",
    "raw_6x_path = \"/nfs/datasync4/inacio/data/raw_data/cryo/novareconstructions/rotacell_grid1_TS09_ctf_6xBin.rec\"\n",
    "cs_1x_path = \"/nfs/datasync4/inacio/data/denoising/cryosamba/rotacell_grid1_TS09_ctf_1xBin/inference_prev/result.rec\"\n",
    "cs_3x_path = \"/nfs/datasync4/inacio/data/denoising/cryosamba/rotacell_grid1_TS09_ctf_3xBin/inference/result.rec\"\n",
    "cs_6x_path = \"/nfs/datasync4/inacio/data/denoising/cryosamba/rotacell_grid1_TS09_ctf_6xBin/inference_prev/result.rec\"\n",
    "\n",
    "tp_1x_path = \"/nfs/datasync4/inacio/data/denoising/topaz/rotacell_grid1_TS09_ctf_1xBin.rec\"\n",
    "tp_3x_path = \"/nfs/datasync4/inacio/data/denoising/topaz/rotacell_grid1_TS09_ctf_3xBin.rec\"\n",
    "tp_6x_path = \"/nfs/datasync4/inacio/data/denoising/topaz/rotacell_grid1_TS09_ctf_6xBin.rec\"\n",
    "cc_1x_path = \"/nfs/datasync4/inacio/data/denoising/cryocare/rota_1x/rotacell_grid1_TS09_ctf_1xBin.rec\"\n",
    "cc_3x_path = \"/nfs/datasync4/inacio/data/denoising/cryocare/rota3x/rotacell_grid1_TS09_ctf_3xBin.rec\"\n",
    "cc_6x_path = \"/nfs/datasync4/inacio/data/denoising/cryocare/rota6x/rotacell_grid1_TS09_ctf_6xBin.rec\"\n",
    "\n",
    "raw = [load(raw_6x_path), load(raw_3x_path), load(raw_1x_path)]\n",
    "cs = [load(cs_6x_path), load(cs_3x_path), load(cs_1x_path)]\n",
    "tp = [load(tp_6x_path), load(tp_3x_path), load(tp_1x_path)]\n",
    "cc = [load(cc_6x_path), load(cc_3x_path), load(cc_1x_path)]"
   ]
  },
  {
   "cell_type": "code",
   "execution_count": 159,
   "id": "2b39c171-51bc-45c5-a593-3229b07704ce",
   "metadata": {},
   "outputs": [],
   "source": [
    "# Volume params\n",
    "\n",
    "y, dy = 360 * 6, 250 * 6\n",
    "x, dx = 340 * 6, 250 * 6\n",
    "\n",
    "z6 = 238-64\n",
    "z3 = 530-64*2\n",
    "z1 = 100\n",
    "\n",
    "Z = [z6, z3, z1]\n",
    "Y = [y//6, y//3, 0]\n",
    "X = [x//6, x//3, 0]\n",
    "\n",
    "DZ = [64, 64*2, 400]\n",
    "DY = [dy//6, dy//3, dy]\n",
    "DX = [dx//6, dx//3, dx]\n",
    "\n",
    "L = [3, 6, 10]\n",
    "\n",
    "raw = [np.asarray(raw[i][Z[i]:Z[i]+DZ[i], Y[i]:Y[i]+DY[i], X[i]:X[i]+DX[i]]) for i in range(3)]\n",
    "cs = [np.asarray(cs[i][Z[i]:Z[i]+DZ[i], Y[i]:Y[i]+DY[i], X[i]:X[i]+DX[i]]) for i in range(3)]\n",
    "tp = [np.asarray(tp[i][Z[i]:Z[i]+DZ[i], Y[i]:Y[i]+DY[i], X[i]:X[i]+DX[i]]) for i in range(3)]\n",
    "cc = [np.asarray(cc[i][Z[i]:Z[i]+DZ[i], Y[i]:Y[i]+DY[i], X[i]:X[i]+DX[i]]) for i in range(3)]"
   ]
  },
  {
   "cell_type": "code",
   "execution_count": 166,
   "id": "bce55f62-20a6-405d-b736-bf3b75cf4782",
   "metadata": {},
   "outputs": [
    {
     "name": "stdout",
     "output_type": "stream",
     "text": [
      "0.43853373124358724\n",
      "0.8461868069223812\n",
      "0.8849686103085151\n",
      "0.40194828549163025\n",
      "22.71247386932373\n"
     ]
    }
   ],
   "source": [
    "start = time()\n",
    "\n",
    "i = 2\n",
    "snr_raw = get_snr(raw[i])\n",
    "snr_cs = get_snr(cs[i])\n",
    "snr_tp = get_snr(tp[i])\n",
    "snr_cc = get_snr(cc[i])\n",
    "\n",
    "print(time()-start)"
   ]
  },
  {
   "cell_type": "code",
   "execution_count": 167,
   "id": "d740955d-9a25-4e0e-b44b-0d4a4fd10d5e",
   "metadata": {},
   "outputs": [
    {
     "name": "stdout",
     "output_type": "stream",
     "text": [
      "-1.0732066609002382 7.4047266190171515 8.86111500092607 -1.7256855924385819\n"
     ]
    }
   ],
   "source": [
    "print(snr_raw, snr_cs, snr_tp, snr_cc)"
   ]
  },
  {
   "cell_type": "code",
   "execution_count": 168,
   "id": "d82cef00-0dda-4ecc-b5e0-03e1daa5e64c",
   "metadata": {},
   "outputs": [
    {
     "data": {
      "image/png": "[encoded data removed]",
      "text/plain": [
       "<Figure size 640x480 with 1 Axes>"
      ]
     },
     "metadata": {},
     "output_type": "display_data"
    }
   ],
   "source": [
    "plt.plot([snr_raw, snr_cs, snr_tp, snr_cc], '.')\n",
    "plt.show()"
   ]
  },
  {
   "cell_type": "code",
   "execution_count": null,
   "id": "346c2fe5-4872-4194-8bd4-8724f9525b42",
   "metadata": {},
   "outputs": [],
   "source": []
  },
  {
   "cell_type": "code",
   "execution_count": null,
   "id": "a8c2807a-be7b-4fff-bcdb-a75bdc739074",
   "metadata": {},
   "outputs": [],
   "source": []
  }
 ],
 "metadata": {
  "kernelspec": {
   "display_name": "Python 3 (ipykernel)",
   "language": "python",
   "name": "python3"
  },
  "language_info": {
   "codemirror_mode": {
    "name": "ipython",
    "version": 3
   },
   "file_extension": ".py",
   "mimetype": "text/x-python",
   "name": "python",
   "nbconvert_exporter": "python",
   "pygments_lexer": "ipython3",
   "version": "3.11.3"
  }
 },
 "nbformat": 4,
 "nbformat_minor": 5
}

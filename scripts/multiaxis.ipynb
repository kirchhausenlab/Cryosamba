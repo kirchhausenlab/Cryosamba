{
 "cells": [
  {
   "cell_type": "code",
   "execution_count": 2,
   "id": "321df1af-471e-4cd6-a277-c35200c7695a",
   "metadata": {},
   "outputs": [],
   "source": [
    "import mrcfile\n",
    "import numpy as np\n",
    "import matplotlib.pyplot as plt\n",
    "import matplotlib.patches as patches\n",
    "\n",
    "from copy import copy\n",
    "\n",
    "def load(path):\n",
    "    return mrcfile.mmap(path, mode='r').data\n",
    "\n",
    "def save(save_path, data):\n",
    "    with mrcfile.new(save_path, overwrite=True) as mrc:\n",
    "        mrc.set_data(data)\n"
   ]
  },
  {
   "cell_type": "code",
   "execution_count": 23,
   "id": "371fafee-7859-4d80-80c2-34e972d3ef49",
   "metadata": {},
   "outputs": [],
   "source": [
    "load_path = \"/nfs/datasync4/inacio/data/raw_data/cryo/novareconstructions/rotacell_grid1_TS09_ctf_3xBin.rec\"\n",
    "save_path = \"/nfs/datasync4/inacio/data/raw_data/cryo/novareconstructions/cropped/rotacell_grid1_TS09_ctf_3xBin_y.rec\"\n",
    "\n",
    "raw = load(load_path)\n",
    "\n",
    "# new = raw.transpose((2,1,0))\n",
    "new = raw.transpose((1,0,2))\n",
    "\n",
    "save(save_path, new)"
   ]
  },
  {
   "cell_type": "code",
   "execution_count": 24,
   "id": "6dbdb84b-0f69-4e3d-b0af-576db0627d0e",
   "metadata": {},
   "outputs": [
    {
     "data": {
      "text/plain": [
       "((667, 1920, 1364), (1920, 667, 1364))"
      ]
     },
     "execution_count": 24,
     "metadata": {},
     "output_type": "execute_result"
    }
   ],
   "source": [
    "raw.shape, new.shape"
   ]
  },
  {
   "cell_type": "code",
   "execution_count": null,
   "id": "2f0c4a41-83a2-4150-b109-f0ced10f6291",
   "metadata": {},
   "outputs": [],
   "source": []
  },
  {
   "cell_type": "code",
   "execution_count": 9,
   "id": "cdd61663-8959-43bb-aebf-962e19087f64",
   "metadata": {},
   "outputs": [],
   "source": [
    "load_path = \"/nfs/datasync4/inacio/data/denoising/cryosamba/rotacell_grid1_TS09_ctf_6xBin/inference_multiaxis/result_y.rec\"\n",
    "save_path = \"/nfs/datasync4/inacio/data/denoising/cryosamba/rotacell_grid1_TS09_ctf_6xBin/inference_multiaxis/final_y.rec\"\n",
    "\n",
    "raw = load(load_path)\n",
    "\n",
    "# new = raw.transpose((2,1,0))\n",
    "new = raw.transpose((1,0,2))\n",
    "\n",
    "save(save_path, new)"
   ]
  },
  {
   "cell_type": "code",
   "execution_count": 8,
   "id": "9207195d-990b-40b0-b979-03eb3c4d2162",
   "metadata": {},
   "outputs": [
    {
     "data": {
      "text/plain": [
       "((682, 960, 333), (333, 960, 682))"
      ]
     },
     "execution_count": 8,
     "metadata": {},
     "output_type": "execute_result"
    }
   ],
   "source": [
    "raw.shape, new.shape"
   ]
  },
  {
   "cell_type": "code",
   "execution_count": null,
   "id": "8e914f4d-5778-492d-9d2e-e403547df7b6",
   "metadata": {},
   "outputs": [],
   "source": []
  },
  {
   "cell_type": "code",
   "execution_count": 14,
   "id": "f4e2d96e-70f2-4aea-8462-4124d5d83b72",
   "metadata": {},
   "outputs": [],
   "source": [
    "load_path = []\n",
    "load_path.append(\"/nfs/datasync4/inacio/data/denoising/cryosamba/rotacell_grid1_TS09_ctf_6xBin/inference_multiaxis/final_z.rec\")\n",
    "# load_path.append(\"/nfs/datasync4/inacio/data/denoising/cryosamba/rotacell_grid1_TS09_ctf_6xBin/inference_multiaxis/final_y.rec\")\n",
    "load_path.append(\"/nfs/datasync4/inacio/data/denoising/cryosamba/rotacell_grid1_TS09_ctf_6xBin/inference_multiaxis/final_x.rec\")\n",
    "save_path = \"/nfs/datasync4/inacio/data/denoising/cryosamba/rotacell_grid1_TS09_ctf_6xBin/inference_multiaxis/final_zx.rec\"\n",
    "\n",
    "files = np.asarray([load(path) for path in load_path])\n",
    "new = files.mean(axis=0)\n",
    "\n",
    "save(save_path, new)"
   ]
  },
  {
   "cell_type": "code",
   "execution_count": null,
   "id": "62505acc-3a76-4dc3-a95e-74c473c0bf01",
   "metadata": {},
   "outputs": [],
   "source": []
  },
  {
   "cell_type": "code",
   "execution_count": 21,
   "id": "8f521f11-889f-4ee2-bb83-355ef330ac5e",
   "metadata": {},
   "outputs": [],
   "source": [
    "import torch\n",
    "import numpy as np"
   ]
  },
  {
   "cell_type": "code",
   "execution_count": 33,
   "id": "368f9e83-b6dc-4616-bb38-778621c8c2c8",
   "metadata": {},
   "outputs": [
    {
     "name": "stdout",
     "output_type": "stream",
     "text": [
      "0 tensor(10)\n",
      "1 tensor(12)\n",
      "2 tensor(14)\n",
      "3 tensor(16)\n",
      "4 tensor(18)\n",
      "5 tensor(20)\n",
      "6 tensor(22)\n",
      "7 tensor(24)\n",
      "8 tensor(26)\n",
      "9 tensor(28)\n",
      "10 tensor(30)\n",
      "11 tensor(32)\n",
      "12 tensor(34)\n",
      "13 tensor(36)\n",
      "14 tensor(38)\n"
     ]
    }
   ],
   "source": [
    "a = torch.arange(20)*2\n",
    "for i, aa in enumerate(a[5:]):\n",
    "    print(i, aa)\n"
   ]
  },
  {
   "cell_type": "code",
   "execution_count": null,
   "id": "5c5638a2-2dd0-48c0-985c-f4f7ef604457",
   "metadata": {},
   "outputs": [],
   "source": []
  },
  {
   "cell_type": "code",
   "execution_count": null,
   "id": "933a9ef6-f1bc-422c-b389-11fced090e49",
   "metadata": {},
   "outputs": [],
   "source": []
  }
 ],
 "metadata": {
  "kernelspec": {
   "display_name": "Python 3 (ipykernel)",
   "language": "python",
   "name": "python3"
  },
  "language_info": {
   "codemirror_mode": {
    "name": "ipython",
    "version": 3
   },
   "file_extension": ".py",
   "mimetype": "text/x-python",
   "name": "python",
   "nbconvert_exporter": "python",
   "pygments_lexer": "ipython3",
   "version": "3.11.3"
  }
 },
 "nbformat": 4,
 "nbformat_minor": 5
}

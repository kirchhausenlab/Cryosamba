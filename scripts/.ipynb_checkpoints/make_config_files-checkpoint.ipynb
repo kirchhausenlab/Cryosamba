{
 "cells": [
  {
   "cell_type": "code",
   "execution_count": 1,
   "id": "e90abfd2-723e-496b-8662-3b8e3cf84782",
   "metadata": {},
   "outputs": [],
   "source": [
    "import os, glob\n",
    "import json\n",
    "from easydict import EasyDict"
   ]
  },
  {
   "cell_type": "code",
   "execution_count": 2,
   "id": "3644ef47-f89f-4ae1-9de9-a91f30c6d03c",
   "metadata": {},
   "outputs": [],
   "source": [
    "def load_json(path):\n",
    "    with open(path) as f:\n",
    "        cfg = EasyDict(json.load(f))\n",
    "    return cfg\n",
    "\n",
    "def save_json(path, cfg):\n",
    "    with open(path, 'w') as f:\n",
    "        json.dump(cfg, f, indent=4)\n",
    "\n",
    "def gap_from_mode(mode):\n",
    "    if mode[0]=='1':\n",
    "        max_frame_gap = 20\n",
    "    elif mode[0]=='3':\n",
    "        max_frame_gap = 12\n",
    "    elif mode[0]=='6':\n",
    "        max_frame_gap = 6\n",
    "    return max_frame_gap"
   ]
  },
  {
   "cell_type": "code",
   "execution_count": 3,
   "id": "0096c9a6-4202-453b-a701-378708b4e061",
   "metadata": {},
   "outputs": [],
   "source": [
    "names = ['ndc10gfp_g7_l1_ts_002_ctf', 'ndc10gfp_g8_l3_ts_002_ctf', 'rotacell_grid1_TS09_ctf', 'rotacell_grid1_TS10_ctf', 'SMH825_ctf']\n",
    "modes = ['1xBin', '3xBin', '3xBin_Even', '3xBin_Odd', '6xBin', '6xBin_Even', '6xBin_Odd']\n",
    "save_ext = '.rec'\n",
    "\n",
    "stem_ckpt_dir = \"/nfs/datasync4/inacio/data/denoising/cryosamba/\"\n",
    "stem_data_path = \"/nfs/datasync4/inacio/data/raw_data/cryo/novareconstructions/\"\n",
    "stem_output_dir = \"/nfs/datasync4/inacio/data/denoising/cryosamba/\"\n"
   ]
  },
  {
   "cell_type": "code",
   "execution_count": 4,
   "id": "50bb7462-1bc0-4c7a-a8ec-74f394d2dc84",
   "metadata": {},
   "outputs": [],
   "source": [
    "default_train_path = \"../configs/default_train.json\"\n",
    "default_inference_path = \"../configs/default_inference.json\"\n",
    "default_train = load_json(default_train_path)\n",
    "default_inference = load_json(default_inference_path)\n",
    "\n",
    "for name in names:\n",
    "    for mode in modes:\n",
    "        cfg_train = default_train.copy()\n",
    "        cfg_inference = default_inference.copy()\n",
    "        \n",
    "        full_name = name+\"_\"+mode\n",
    "\n",
    "        cfg_train['ckpt_dir'] = os.path.join(stem_ckpt_dir, full_name, 'train')\n",
    "        cfg_train['data_path'] = os.path.join(stem_data_path, full_name+save_ext)\n",
    "        cfg_train['train_data']['max_frame_gap'] = gap_from_mode(mode)//2\n",
    "        \n",
    "        cfg_inference['ckpt_dir'] = cfg_train['ckpt_dir']\n",
    "        cfg_inference['data_path'] = cfg_train['data_path']\n",
    "        cfg_inference['output_dir'] = os.path.join(stem_output_dir, full_name, 'inference')\n",
    "        cfg_inference['test_data']['max_frame_gap'] = gap_from_mode(mode)\n",
    "\n",
    "        save_path_train = os.path.join(\"../configs/nova/\", full_name+\"_train.json\")\n",
    "        save_path_inference = os.path.join(\"../configs/nova/\", full_name+\"_inference.json\")\n",
    "\n",
    "        save_json(save_path_train, cfg_train)\n",
    "        \n",
    "        save_json(save_path_inference, cfg_inference)"
   ]
  },
  {
   "cell_type": "code",
   "execution_count": null,
   "id": "e7bccaec-18da-41a3-b324-50160406fea2",
   "metadata": {},
   "outputs": [],
   "source": []
  },
  {
   "cell_type": "code",
   "execution_count": null,
   "id": "a4372148-2314-4b76-917a-670a8ffc3394",
   "metadata": {},
   "outputs": [],
   "source": [
    "names = ['ndc10gfp_g7_l1_ts_002_ctf', 'ndc10gfp_g8_l3_ts_002_ctf', 'rotacell_grid1_TS09_ctf', 'rotacell_grid1_TS10_ctf', 'SMH825_ctf']\n",
    "modes = ['1xBin', '3xBin', '3xBin_Even', '3xBin_Odd', '6xBin', '6xBin_Even', '6xBin_Odd']\n",
    "save_ext = '.rec'\n",
    "\n",
    "stem_ckpt_dir = \"/nfs/datasync4/inacio/data/denoising/cryosamba/\"\n",
    "stem_data_path = \"/nfs/datasync4/inacio/data/raw_data/cryo/novareconstructions/\"\n",
    "stem_output_dir = \"/nfs/datasync4/inacio/data/denoising/cryosamba/\""
   ]
  },
  {
   "cell_type": "code",
   "execution_count": null,
   "id": "9357b7e1-5088-42e3-8ccb-217f643a8ece",
   "metadata": {},
   "outputs": [],
   "source": [
    "default_train_path = \"../configs/default_train.json\"\n",
    "default_inference_path = \"../configs/default_inference.json\"\n",
    "default_train = load_json(default_train_path)\n",
    "default_inference = load_json(default_inference_path)\n",
    "\n",
    "for name in names:\n",
    "    for mode in modes:\n",
    "        cfg_train = default_train.copy()\n",
    "        cfg_inference = default_inference.copy()\n",
    "        \n",
    "        full_name = name+\"_\"+mode\n",
    "\n",
    "        cfg_train['ckpt_dir'] = os.path.join(stem_ckpt_dir, full_name, 'train')\n",
    "        cfg_train['data_path'] = os.path.join(stem_data_path, full_name+save_ext)\n",
    "        cfg_train['train_data']['max_frame_gap'] = gap_from_mode(mode)//2\n",
    "        \n",
    "        cfg_inference['ckpt_dir'] = cfg_train['ckpt_dir']\n",
    "        cfg_inference['data_path'] = cfg_train['data_path']\n",
    "        cfg_inference['output_dir'] = os.path.join(stem_output_dir, full_name, 'inference')\n",
    "        cfg_inference['test_data']['max_frame_gap'] = gap_from_mode(mode)\n",
    "\n",
    "        save_path_train = os.path.join(\"../configs/nova/\", full_name+\"_train.json\")\n",
    "        save_path_inference = os.path.join(\"../configs/nova/\", full_name+\"_inference.json\")\n",
    "\n",
    "        save_json(save_path_train, cfg_train)\n",
    "        \n",
    "        save_json(save_path_inference, cfg_inference)"
   ]
  },
  {
   "cell_type": "code",
   "execution_count": null,
   "id": "602331bb-c38d-4782-8a33-030ec0bd5ad9",
   "metadata": {},
   "outputs": [],
   "source": []
  },
  {
   "cell_type": "code",
   "execution_count": 1,
   "id": "7c7c246b-a754-495e-aa28-cb228a50454f",
   "metadata": {},
   "outputs": [],
   "source": [
    "import mrcfile\n",
    "import matplotlib.pyplot as plt\n",
    "\n",
    "def load(path):\n",
    "    return mrcfile.mmap(path, mode='r').data\n",
    "\n",
    "def save(save_path, data):\n",
    "    with mrcfile.new(save_path, overwrite=True) as mrc:\n",
    "        mrc.set_data(data)"
   ]
  },
  {
   "cell_type": "code",
   "execution_count": 44,
   "id": "dfedc767-2782-40ef-81a4-f6e2a47562a2",
   "metadata": {},
   "outputs": [],
   "source": [
    "path = \"/nfs/datasync4/inacio/data/raw_data/cryo/novareconstructions/cropped/rotacell_grid1_TS09_ctf_1xBin.rec\"\n",
    "# path = \"/nfs/datasync4/inacio/data/denoising/cryosamba/rotacell_grid1_TS09_ctf_1xBin/inference/result.rec\"\n",
    "save_path = \"/nfs/datasync4/inacio/data/raw_data/cryo/novareconstructions/cropped/rotacell_grid1_TS09_ctf_1xBin_virus.rec\"\n",
    "\n",
    "stack = load(path)"
   ]
  },
  {
   "cell_type": "code",
   "execution_count": 45,
   "id": "8e16c79c-a31a-4cde-b998-e8bd1bcdae55",
   "metadata": {},
   "outputs": [],
   "source": [
    "# 1xBin\n",
    "\n",
    "z, dz = 288-64, 128\n",
    "y, dy = 130, 384\n",
    "x, dx = 280, 384\n",
    "\n",
    "# # 3xBin\n",
    "\n",
    "# z, dz = 500//bin, 96//bin\n",
    "# y, dy = 700//bin, 256//bin\n",
    "# x, dx = 700//bin, 256//bin\n",
    "\n",
    "# # 6xBin\n",
    "\n",
    "# z, dz = 210, 64\n",
    "# y, dy = 350, 128\n",
    "# x, dx = 380, 128"
   ]
  },
  {
   "cell_type": "code",
   "execution_count": 46,
   "id": "7bc9504a-e9db-4584-aa0a-3a21cbd6ca9b",
   "metadata": {},
   "outputs": [],
   "source": [
    "final_stack = stack[z:z+dz, y:y+dy, x:x+dx]"
   ]
  },
  {
   "cell_type": "code",
   "execution_count": null,
   "id": "221766c9-7457-41dd-a2c3-5af679089ae2",
   "metadata": {},
   "outputs": [],
   "source": [
    "save(save_path, final_stack)"
   ]
  },
  {
   "cell_type": "markdown",
   "id": "daad9388-b995-4db2-ac4e-ea154fac086f",
   "metadata": {},
   "source": [
    "ndc10gfp_g7_l1_ts_002_ctf_1xBin: \n",
    "\n",
    "z, dz = 135*6, 90*6\n",
    "y, dy = 370*6, 250*6\n",
    "x, dx = 150*6, 250*6\n",
    "\n",
    "rotacell_grid1_TS09_ctf_1xBin:\n",
    "\n",
    "z, dz = 160*6, 90*6\n",
    "y, dy = 360*6, 250*6\n",
    "x, dx = 340*6, 250*6\n",
    "\n",
    "rotacell_grid1_TS10_ctf_1xBin:\n",
    "\n",
    "z, dz = 117*6, 90*6\n",
    "y, dy = 610*6, 250*6\n",
    "x, dx = 150*6, 250*6"
   ]
  },
  {
   "cell_type": "code",
   "execution_count": null,
   "id": "8a000a3b-051d-4ec0-8f88-da3ad8254400",
   "metadata": {},
   "outputs": [],
   "source": []
  },
  {
   "cell_type": "code",
   "execution_count": null,
   "id": "7a8ee41d-defb-431d-927d-f75428f258e5",
   "metadata": {},
   "outputs": [],
   "source": []
  }
 ],
 "metadata": {
  "kernelspec": {
   "display_name": "Python 3 (ipykernel)",
   "language": "python",
   "name": "python3"
  },
  "language_info": {
   "codemirror_mode": {
    "name": "ipython",
    "version": 3
   },
   "file_extension": ".py",
   "mimetype": "text/x-python",
   "name": "python",
   "nbconvert_exporter": "python",
   "pygments_lexer": "ipython3",
   "version": "3.11.3"
  }
 },
 "nbformat": 4,
 "nbformat_minor": 5
}
